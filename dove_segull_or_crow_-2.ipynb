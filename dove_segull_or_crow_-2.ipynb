{
 "cells": [
  {
   "cell_type": "code",
   "execution_count": 1,
   "metadata": {
    "colab": {
     "base_uri": "https://localhost:8080/"
    },
    "id": "Do3fBhJ6KN3x",
    "outputId": "6bdbf079-9e6b-441f-fe80-8edfe46c4058"
   },
   "outputs": [],
   "source": [
    "!pip install -Uqq fastbook\n",
    "import fastbook\n",
    "fastbook.setup_book()"
   ]
  },
  {
   "cell_type": "code",
   "execution_count": 2,
   "metadata": {
    "id": "I9HHrqPc9AKS"
   },
   "outputs": [],
   "source": [
    "from fastbook import *\n",
    "from fastai.vision.widgets import *"
   ]
  },
  {
   "cell_type": "code",
   "execution_count": 8,
   "metadata": {
    "id": "C8SV5rNpKzTV"
   },
   "outputs": [],
   "source": [
    "#the api key from azure\n",
    "key = os.environ.get('', '92aa46428c714ddab247b132a0d42d57')"
   ]
  },
  {
   "cell_type": "code",
   "execution_count": 9,
   "metadata": {
    "colab": {
     "base_uri": "https://localhost:8080/"
    },
    "id": "pD9o0fE0LDWI",
    "outputId": "219a04ea-3cd6-436a-88e0-6369b4b22175"
   },
   "outputs": [
    {
     "data": {
      "text/plain": [
       "<function fastbook.search_images_bing(key, term, min_sz=128, max_images=150)>"
      ]
     },
     "execution_count": 9,
     "metadata": {},
     "output_type": "execute_result"
    }
   ],
   "source": [
    "search_images_bing"
   ]
  },
  {
   "cell_type": "code",
   "execution_count": 10,
   "metadata": {
    "colab": {
     "base_uri": "https://localhost:8080/"
    },
    "id": "rHdWBy7wLHxX",
    "outputId": "503029c8-8da7-4282-d5a6-2b9d97fead3e"
   },
   "outputs": [
    {
     "data": {
      "text/plain": [
       "150"
      ]
     },
     "execution_count": 10,
     "metadata": {},
     "output_type": "execute_result"
    }
   ],
   "source": [
    "results = search_images_bing(key, 'dove')\n",
    "ims = results.attrgot('contentUrl')\n",
    "len(ims)"
   ]
  },
  {
   "cell_type": "code",
   "execution_count": 11,
   "metadata": {
    "colab": {
     "base_uri": "https://localhost:8080/"
    },
    "id": "0f_PhlpcNSb5",
    "outputId": "aa118657-5f34-4028-c12b-3de2948f7445"
   },
   "outputs": [
    {
     "data": {
      "text/plain": [
       "(#150) ['https://upload.wikimedia.org/wikipedia/commons/thumb/0/0b/Eurasian_collared-dove_(Streptopelia_decaocto).jpg/1200px-Eurasian_collared-dove_(Streptopelia_decaocto).jpg','https://www.goodfreephotos.com/albums/vector-images/dove-vector-clipart.png','https://upload.wikimedia.org/wikipedia/commons/thumb/4/4a/Ring-necked_dove_%28Streptopelia_capicola_damarensis%29.jpg/1200px-Ring-necked_dove_%28Streptopelia_capicola_damarensis%29.jpg','https://upload.wikimedia.org/wikipedia/commons/thumb/0/08/Feral_Barbary_Dove.jpg/1200px-Feral_Barbary_Dove.jpg','https://i.ytimg.com/vi/OFHcXh5FxiM/hqdefault.jpg','http://images.clipartpanda.com/christian-dove-clipart-RTd6qBjT9.png','https://upload.wikimedia.org/wikipedia/en/5/5f/WhiteDove912.jpg','https://upload.wikimedia.org/wikipedia/commons/0/04/Columbina_passerina_-near_Salton_Sea%2C_California%2C_USA-8.jpg','https://sites.psu.edu/birdsofpa/files/2016/12/Mourning_dove-1ryyytn.jpg','https://upload.wikimedia.org/wikipedia/commons/thumb/5/56/Paloma_brav%C3%ADa_(Columba_livia)%2C_Palacio_de_Nymphenburg%2C_M%C3%BAnich%2C_Alemania01.JPG/1200px-Paloma_brav%C3%ADa_(Columba_livia)%2C_Palacio_de_Nymphenburg%2C_M%C3%BAnich%2C_Alemania01.JPG'...]"
      ]
     },
     "execution_count": 11,
     "metadata": {},
     "output_type": "execute_result"
    }
   ],
   "source": [
    "ims"
   ]
  },
  {
   "cell_type": "code",
   "execution_count": 13,
   "metadata": {
    "colab": {
     "base_uri": "https://localhost:8080/",
     "height": 38
    },
    "id": "AQU_nj_3MTa4",
    "outputId": "62a64057-d10b-4044-e92c-02c9ec60fe24"
   },
   "outputs": [
    {
     "data": {
      "text/html": [],
      "text/plain": [
       "<IPython.core.display.HTML object>"
      ]
     },
     "metadata": {},
     "output_type": "display_data"
    }
   ],
   "source": [
    "dest = 'images/dove.jpg'\n",
    "download_url(ims[0], dest)"
   ]
  },
  {
   "cell_type": "code",
   "execution_count": 14,
   "metadata": {
    "colab": {
     "base_uri": "https://localhost:8080/",
     "height": 166
    },
    "id": "9b2YESJfRKMp",
    "outputId": "ea2c66ee-9a61-4f35-d911-42d841f6003b"
   },
   "outputs": [
    {
     "data": {
      "image/png": "[encoded data removed]",
      "text/plain": [
       "<PIL.Image.Image image mode=RGB size=85x128 at 0x7FA8D3C05C70>"
      ]
     },
     "execution_count": 14,
     "metadata": {},
     "output_type": "execute_result"
    }
   ],
   "source": [
    "im = Image.open(dest)\n",
    "im.to_thumb(128,128)"
   ]
  },
  {
   "cell_type": "code",
   "execution_count": 15,
   "metadata": {
    "id": "Ajtw-TJlRWpI"
   },
   "outputs": [],
   "source": [
    "bird_types = 'dove', 'segull', 'crow'\n",
    "path = Path('birds')"
   ]
  },
  {
   "cell_type": "code",
   "execution_count": 16,
   "metadata": {
    "id": "zwf-cJb4Rkz4"
   },
   "outputs": [],
   "source": [
    "if not path.exists():\n",
    "    path.mkdir()\n",
    "    for o in bird_types:\n",
    "        dest = (path/o)\n",
    "        dest.mkdir(exist_ok=True)\n",
    "        results = search_images_bing(key, f'{o}')\n",
    "        download_images(dest, urls=results.attrgot('contentUrl'))"
   ]
  },
  {
   "cell_type": "code",
   "execution_count": 17,
   "metadata": {
    "colab": {
     "base_uri": "https://localhost:8080/"
    },
    "id": "PSiqU-PYV_l0",
    "outputId": "0a46a338-e11b-40e9-b034-bdb90705ebd6"
   },
   "outputs": [
    {
     "data": {
      "text/plain": [
       "(#429) [Path('birds/dove/00000004.jpg'),Path('birds/dove/00000001.png'),Path('birds/dove/00000002.jpg'),Path('birds/dove/00000000.jpg'),Path('birds/dove/00000005.png'),Path('birds/dove/00000003.jpg'),Path('birds/dove/00000007.jpg'),Path('birds/dove/00000006.jpg'),Path('birds/dove/00000009.JPG'),Path('birds/dove/00000008.jpg')...]"
      ]
     },
     "execution_count": 17,
     "metadata": {},
     "output_type": "execute_result"
    }
   ],
   "source": [
    "fns = get_image_files(path)\n",
    "fns"
   ]
  },
  {
   "cell_type": "code",
   "execution_count": 18,
   "metadata": {
    "colab": {
     "base_uri": "https://localhost:8080/"
    },
    "id": "OWlhhI5AXogU",
    "outputId": "cc9b7c8f-ad20-47ef-cc2a-e22f91a00f03"
   },
   "outputs": [
    {
     "data": {
      "text/plain": [
       "(#3) [Path('birds/segull/00000069.jpg'),Path('birds/segull/00000080.jpg'),Path('birds/crow/00000123.jpg')]"
      ]
     },
     "execution_count": 18,
     "metadata": {},
     "output_type": "execute_result"
    }
   ],
   "source": [
    "# checkinging if any images are corrupt\n",
    "failed = verify_images(fns)\n",
    "failed"
   ]
  },
  {
   "cell_type": "code",
   "execution_count": 19,
   "metadata": {
    "colab": {
     "base_uri": "https://localhost:8080/"
    },
    "id": "dWoeNwttX5qM",
    "outputId": "e63640a3-df40-4119-ca29-4ec3646933e5"
   },
   "outputs": [
    {
     "data": {
      "text/plain": [
       "(#3) [None,None,None]"
      ]
     },
     "execution_count": 19,
     "metadata": {},
     "output_type": "execute_result"
    }
   ],
   "source": [
    "#remove corrupt images\n",
    "\n",
    "failed.map(Path.unlink)"
   ]
  },
  {
   "cell_type": "code",
   "execution_count": 20,
   "metadata": {
    "id": "3vqTudXhYv9s"
   },
   "outputs": [],
   "source": [
    "birds = DataBlock(\n",
    "    blocks=(ImageBlock, CategoryBlock),\n",
    "    get_items = get_image_files,\n",
    "    splitter= RandomSplitter(valid_pct=0.2, seed= 42),\n",
    "    get_y=parent_label,\n",
    "    item_tfms=Resize(128)\n",
    ")"
   ]
  },
  {
   "cell_type": "code",
   "execution_count": 21,
   "metadata": {
    "id": "VH2x1OSrZe16"
   },
   "outputs": [],
   "source": [
    "#tells fastai the source of our data\n",
    "birds = birds.new(\n",
    "    item_tfms=RandomResizedCrop(224, min_scale=0.5),\n",
    "    batch_tfms=aug_transforms())\n",
    "dls = birds.dataloaders(path)"
   ]
  },
  {
   "cell_type": "code",
   "execution_count": 22,
   "metadata": {
    "colab": {
     "base_uri": "https://localhost:8080/",
     "height": 483,
     "referenced_widgets": [
      "c3f41241c33f4fa180417edb4ff2ff5e",
      "5269ed5bf767409e9f2ad2cf2aee5766",
      "d4493ed4dc6e4654baf5e02d6785d2ad",
      "132b25af9af0462a968039c19906def9",
      "4140f9824743416ca665de428d82ef51",
      "bccf3fecef9b41828827ed43b3adb1f4",
      "3c4e30ce686f471787eb0efcffe02821",
      "7d1f2f2620c84292aef403bef31afb81"
     ]
    },
    "id": "7bpfrLiWbhAc",
    "outputId": "ea00d328-e728-45a4-c4ca-9617ca8fb89d"
   },
   "outputs": [
    {
     "name": "stderr",
     "output_type": "stream",
     "text": [
      "Downloading: \"https://download.pytorch.org/models/resnet18-5c106cde.pth\" to /root/.cache/torch/hub/checkpoints/resnet18-5c106cde.pth\n"
     ]
    },
    {
     "data": {
      "application/vnd.jupyter.widget-view+json": {
       "model_id": "d9adbc08965c4203a79551baa2474cb4",
       "version_major": 2,
       "version_minor": 0
      },
      "text/plain": [
       "HBox(children=(HTML(value=''), FloatProgress(value=0.0, max=46827520.0), HTML(value='')))"
      ]
     },
     "metadata": {},
     "output_type": "display_data"
    },
    {
     "name": "stdout",
     "output_type": "stream",
     "text": [
      "\n"
     ]
    },
    {
     "data": {
      "text/html": [
       "<table border=\"1\" class=\"dataframe\">\n",
       "  <thead>\n",
       "    <tr style=\"text-align: left;\">\n",
       "      <th>epoch</th>\n",
       "      <th>train_loss</th>\n",
       "      <th>valid_loss</th>\n",
       "      <th>error_rate</th>\n",
       "      <th>time</th>\n",
       "    </tr>\n",
       "  </thead>\n",
       "  <tbody>\n",
       "    <tr>\n",
       "      <td>0</td>\n",
       "      <td>1.646247</td>\n",
       "      <td>0.749957</td>\n",
       "      <td>0.235294</td>\n",
       "      <td>00:09</td>\n",
       "    </tr>\n",
       "  </tbody>\n",
       "</table>"
      ],
      "text/plain": [
       "<IPython.core.display.HTML object>"
      ]
     },
     "metadata": {},
     "output_type": "display_data"
    },
    {
     "name": "stderr",
     "output_type": "stream",
     "text": [
      "/opt/conda/envs/fastai/lib/python3.8/site-packages/PIL/Image.py:951: UserWarning: Palette images with Transparency expressed in bytes should be converted to RGBA images\n",
      "  warnings.warn(\n"
     ]
    },
    {
     "data": {
      "text/html": [
       "<table border=\"1\" class=\"dataframe\">\n",
       "  <thead>\n",
       "    <tr style=\"text-align: left;\">\n",
       "      <th>epoch</th>\n",
       "      <th>train_loss</th>\n",
       "      <th>valid_loss</th>\n",
       "      <th>error_rate</th>\n",
       "      <th>time</th>\n",
       "    </tr>\n",
       "  </thead>\n",
       "  <tbody>\n",
       "    <tr>\n",
       "      <td>0</td>\n",
       "      <td>0.412796</td>\n",
       "      <td>0.312011</td>\n",
       "      <td>0.117647</td>\n",
       "      <td>00:09</td>\n",
       "    </tr>\n",
       "    <tr>\n",
       "      <td>1</td>\n",
       "      <td>0.306515</td>\n",
       "      <td>0.165109</td>\n",
       "      <td>0.047059</td>\n",
       "      <td>00:10</td>\n",
       "    </tr>\n",
       "    <tr>\n",
       "      <td>2</td>\n",
       "      <td>0.233293</td>\n",
       "      <td>0.162522</td>\n",
       "      <td>0.035294</td>\n",
       "      <td>00:09</td>\n",
       "    </tr>\n",
       "    <tr>\n",
       "      <td>3</td>\n",
       "      <td>0.188702</td>\n",
       "      <td>0.169464</td>\n",
       "      <td>0.035294</td>\n",
       "      <td>00:09</td>\n",
       "    </tr>\n",
       "  </tbody>\n",
       "</table>"
      ],
      "text/plain": [
       "<IPython.core.display.HTML object>"
      ]
     },
     "metadata": {},
     "output_type": "display_data"
    },
    {
     "name": "stderr",
     "output_type": "stream",
     "text": [
      "/opt/conda/envs/fastai/lib/python3.8/site-packages/PIL/Image.py:951: UserWarning: Palette images with Transparency expressed in bytes should be converted to RGBA images\n",
      "  warnings.warn(\n",
      "/opt/conda/envs/fastai/lib/python3.8/site-packages/PIL/Image.py:951: UserWarning: Palette images with Transparency expressed in bytes should be converted to RGBA images\n",
      "  warnings.warn(\n",
      "/opt/conda/envs/fastai/lib/python3.8/site-packages/PIL/Image.py:951: UserWarning: Palette images with Transparency expressed in bytes should be converted to RGBA images\n",
      "  warnings.warn(\n",
      "/opt/conda/envs/fastai/lib/python3.8/site-packages/PIL/Image.py:951: UserWarning: Palette images with Transparency expressed in bytes should be converted to RGBA images\n",
      "  warnings.warn(\n"
     ]
    }
   ],
   "source": [
    "learn = cnn_learner(dls, resnet18, metrics=error_rate)\n",
    "learn.fine_tune(4)"
   ]
  },
  {
   "cell_type": "code",
   "execution_count": 23,
   "metadata": {
    "colab": {
     "base_uri": "https://localhost:8080/",
     "height": 332
    },
    "id": "koACPO77cXJn",
    "outputId": "eb8ec005-f727-40ea-e87f-5108a2869d3f"
   },
   "outputs": [
    {
     "data": {
      "text/html": [],
      "text/plain": [
       "<IPython.core.display.HTML object>"
      ]
     },
     "metadata": {},
     "output_type": "display_data"
    },
    {
     "data": {
      "image/png": "[encoded data removed]",
      "text/plain": [
       "<Figure size 432x288 with 1 Axes>"
      ]
     },
     "metadata": {
      "needs_background": "light"
     },
     "output_type": "display_data"
    }
   ],
   "source": [
    "interp = ClassificationInterpretation.from_learner(learn)\n",
    "interp.plot_confusion_matrix()"
   ]
  },
  {
   "cell_type": "code",
   "execution_count": 24,
   "metadata": {
    "colab": {
     "base_uri": "https://localhost:8080/",
     "height": 222
    },
    "id": "PQXwbmOzcoBu",
    "outputId": "c4f4b6e7-c765-4176-ecfb-3c05cdaf0af8"
   },
   "outputs": [
    {
     "data": {
      "image/png": "[encoded data removed]",
      "text/plain": [
       "<Figure size 1080x216 with 5 Axes>"
      ]
     },
     "metadata": {
      "needs_background": "light"
     },
     "output_type": "display_data"
    }
   ],
   "source": [
    "interp.plot_top_losses(5, nrows=1)"
   ]
  },
  {
   "cell_type": "markdown",
   "metadata": {
    "id": "4IvKr48afMht"
   },
   "source": [
    "Turining the model into an Online Application\n"
   ]
  },
  {
   "cell_type": "code",
   "execution_count": 25,
   "metadata": {
    "id": "wApHfSB5fK_f"
   },
   "outputs": [],
   "source": [
    "learn.export()"
   ]
  },
  {
   "cell_type": "code",
   "execution_count": 26,
   "metadata": {
    "colab": {
     "base_uri": "https://localhost:8080/"
    },
    "id": "W1Q4wZbMfVHM",
    "outputId": "da990fe9-18dc-4993-b4e4-e7b1392fc4f6"
   },
   "outputs": [
    {
     "data": {
      "text/plain": [
       "(#1) [Path('export.pkl')]"
      ]
     },
     "execution_count": 26,
     "metadata": {},
     "output_type": "execute_result"
    }
   ],
   "source": [
    "path = Path()\n",
    "path.ls(file_exts='.pkl')"
   ]
  },
  {
   "cell_type": "code",
   "execution_count": 27,
   "metadata": {
    "id": "khqjLwmafoz5"
   },
   "outputs": [],
   "source": [
    "learn_inf = load_learner(path/'export.pkl')"
   ]
  },
  {
   "cell_type": "code",
   "execution_count": 28,
   "metadata": {
    "colab": {
     "base_uri": "https://localhost:8080/",
     "height": 54
    },
    "id": "VwE2EesUfwod",
    "outputId": "3c9b89d3-a16b-4a43-9516-7c05aa1aa514"
   },
   "outputs": [
    {
     "data": {
      "text/html": [],
      "text/plain": [
       "<IPython.core.display.HTML object>"
      ]
     },
     "metadata": {},
     "output_type": "display_data"
    },
    {
     "data": {
      "text/plain": [
       "('dove', tensor(1), tensor([0.0028, 0.9936, 0.0035]))"
      ]
     },
     "execution_count": 28,
     "metadata": {},
     "output_type": "execute_result"
    }
   ],
   "source": [
    "learn_inf.predict('images/dove.jpg')"
   ]
  },
  {
   "cell_type": "code",
   "execution_count": 29,
   "metadata": {
    "colab": {
     "base_uri": "https://localhost:8080/"
    },
    "id": "oQue3Iuarq4y",
    "outputId": "e9a1d318-6e93-4fb1-9a54-9d8cd213c26b"
   },
   "outputs": [
    {
     "data": {
      "text/plain": [
       "['crow', 'dove', 'segull']"
      ]
     },
     "execution_count": 29,
     "metadata": {},
     "output_type": "execute_result"
    }
   ],
   "source": [
    "learn_inf.dls.vocab"
   ]
  },
  {
   "cell_type": "code",
   "execution_count": 30,
   "metadata": {
    "colab": {
     "base_uri": "https://localhost:8080/",
     "height": 70,
     "referenced_widgets": [
      "fc0ffd7b1c284732b7bb30c2337b6693",
      "e40704b76ca64ab583a04835a0a10c9d",
      "3a4513494369450abb88bde59b5975a1"
     ]
    },
    "id": "rn_B0tP2ruYl",
    "outputId": "45cca5ed-61eb-43d3-98aa-862e424c8d57"
   },
   "outputs": [
    {
     "data": {
      "application/vnd.jupyter.widget-view+json": {
       "model_id": "277512f4077a41b98ee1169333f2cc9b",
       "version_major": 2,
       "version_minor": 0
      },
      "text/plain": [
       "FileUpload(value={}, description='Upload')"
      ]
     },
     "metadata": {},
     "output_type": "display_data"
    }
   ],
   "source": [
    "btn_upload = widgets.FileUpload()\n",
    "btn_upload"
   ]
  },
  {
   "cell_type": "code",
   "execution_count": 31,
   "metadata": {
    "id": "aepU3A4SryZA"
   },
   "outputs": [],
   "source": [
    "btn_upload = SimpleNamespace(data = ['images/dove.jpg'])"
   ]
  },
  {
   "cell_type": "code",
   "execution_count": 32,
   "metadata": {
    "id": "VVjqRxfOr1Wh"
   },
   "outputs": [],
   "source": [
    "img = PILImage.create(btn_upload.data[-1])"
   ]
  },
  {
   "cell_type": "code",
   "execution_count": 33,
   "metadata": {
    "colab": {
     "base_uri": "https://localhost:8080/",
     "height": 140,
     "referenced_widgets": [
      "88e9b7d916ee4d619babd84e066b5892",
      "e755c79ee04d4caa8e96f7d93239ad4f"
     ]
    },
    "id": "0eof8cuXr96b",
    "outputId": "f9f2e009-9d35-4e8a-d8f5-841b7a753b63"
   },
   "outputs": [
    {
     "data": {
      "application/vnd.jupyter.widget-view+json": {
       "model_id": "368a4e18353c4008910e54842ff70b5d",
       "version_major": 2,
       "version_minor": 0
      },
      "text/plain": [
       "Output()"
      ]
     },
     "metadata": {},
     "output_type": "display_data"
    }
   ],
   "source": [
    "out_pl = widgets.Output()\n",
    "out_pl.clear_output()\n",
    "with out_pl: display(img.to_thumb(128,128))\n",
    "out_pl"
   ]
  },
  {
   "cell_type": "code",
   "execution_count": 34,
   "metadata": {
    "colab": {
     "base_uri": "https://localhost:8080/",
     "height": 38
    },
    "id": "QsQb3GUQsB5b",
    "outputId": "01023df0-d0db-4da6-c3e3-c20d9ce2fcfa"
   },
   "outputs": [
    {
     "data": {
      "text/html": [],
      "text/plain": [
       "<IPython.core.display.HTML object>"
      ]
     },
     "metadata": {},
     "output_type": "display_data"
    }
   ],
   "source": [
    "pred,pred_idx,probs = learn_inf.predict(img)"
   ]
  },
  {
   "cell_type": "code",
   "execution_count": 35,
   "metadata": {
    "colab": {
     "base_uri": "https://localhost:8080/",
     "height": 69,
     "referenced_widgets": [
      "6d97fe39733149b7bf3c347cc9337f30",
      "5b30b3744af64f68bf5d3174768217cc",
      "ba47e5428fa34494b7683fc12bc36b41"
     ]
    },
    "id": "Z9qFDf4PsGPp",
    "outputId": "8fe4a304-0244-4a30-d0b8-e1d149541d56"
   },
   "outputs": [
    {
     "data": {
      "application/vnd.jupyter.widget-view+json": {
       "model_id": "44920f0e28fd4b69aac606fb19c48a2f",
       "version_major": 2,
       "version_minor": 0
      },
      "text/plain": [
       "Label(value='Prediction: dove; Probability: 0.9936')"
      ]
     },
     "metadata": {},
     "output_type": "display_data"
    }
   ],
   "source": [
    "lbl_pred = widgets.Label()\n",
    "lbl_pred.value = f'Prediction: {pred}; Probability: {probs[pred_idx]:.04f}'\n",
    "lbl_pred"
   ]
  },
  {
   "cell_type": "code",
   "execution_count": 36,
   "metadata": {
    "colab": {
     "base_uri": "https://localhost:8080/",
     "height": 70,
     "referenced_widgets": [
      "51c691f8b8864fdd9a88c9813d2cd773",
      "e7b494c200d74afbb10b1a8f49ad5900",
      "901956eabd56472fb600236ddcfaf6e2"
     ]
    },
    "id": "tLxgsJHUsOCw",
    "outputId": "86c560ce-0b17-49d9-c2a2-f6088ed4000e"
   },
   "outputs": [
    {
     "data": {
      "application/vnd.jupyter.widget-view+json": {
       "model_id": "729436f71a6b4b078db7e620e024394c",
       "version_major": 2,
       "version_minor": 0
      },
      "text/plain": [
       "Button(description='Classify', style=ButtonStyle())"
      ]
     },
     "metadata": {},
     "output_type": "display_data"
    }
   ],
   "source": [
    "btn_run = widgets.Button(description='Classify')\n",
    "btn_run"
   ]
  },
  {
   "cell_type": "code",
   "execution_count": 37,
   "metadata": {
    "id": "98tlKpKcsU50"
   },
   "outputs": [],
   "source": [
    "def on_click_classify(change):\n",
    "    img = PILImage.create(btn_upload.data[-1])\n",
    "    out_pl.clear_output()\n",
    "    with out_pl: display(img.to_thumb(128,128))\n",
    "    pred,pred_idx,probs = learn_inf.predict(img)\n",
    "    lbl_pred.value = f'Prediction: {pred}; Probability: {probs[pred_idx]:.04f}'\n",
    "\n",
    "btn_run.on_click(on_click_classify)"
   ]
  },
  {
   "cell_type": "code",
   "execution_count": 38,
   "metadata": {
    "id": "iM0uytHus5P_"
   },
   "outputs": [],
   "source": [
    "btn_upload = widgets.FileUpload()"
   ]
  },
  {
   "cell_type": "code",
   "execution_count": 39,
   "metadata": {
    "colab": {
     "base_uri": "https://localhost:8080/",
     "height": 267,
     "referenced_widgets": [
      "bdf5172a11084bb98ebf065469dc08a6",
      "7c9df107d353441da18fca610b187ed3",
      "221abf7ee5384d559c3a95f46d38dd35",
      "fc0ffd7b1c284732b7bb30c2337b6693",
      "51c691f8b8864fdd9a88c9813d2cd773",
      "88e9b7d916ee4d619babd84e066b5892",
      "6d97fe39733149b7bf3c347cc9337f30",
      "e40b308016814373880f1c5f9898ee75",
      "e8be5c0ef8cf4bba96a3c03732f8fe9b",
      "e40704b76ca64ab583a04835a0a10c9d",
      "3a4513494369450abb88bde59b5975a1",
      "e7b494c200d74afbb10b1a8f49ad5900",
      "901956eabd56472fb600236ddcfaf6e2",
      "5b30b3744af64f68bf5d3174768217cc",
      "ba47e5428fa34494b7683fc12bc36b41",
      "e755c79ee04d4caa8e96f7d93239ad4f"
     ]
    },
    "id": "9Z2JEr8PtHkZ",
    "outputId": "9f2c02d0-11b2-4cb9-bb91-4a3969c0c218"
   },
   "outputs": [
    {
     "data": {
      "application/vnd.jupyter.widget-view+json": {
       "model_id": "74b8dfc6bbd04e54b040d4b3ae86ca7f",
       "version_major": 2,
       "version_minor": 0
      },
      "text/plain": [
       "VBox(children=(Label(value='Select your bird!'), FileUpload(value={}, description='Upload'), Button(descriptio…"
      ]
     },
     "metadata": {},
     "output_type": "display_data"
    }
   ],
   "source": [
    "VBox([widgets.Label('Select your bird!'), \n",
    "      btn_upload, btn_run, out_pl, lbl_pred])"
   ]
  },
  {
   "cell_type": "markdown",
   "metadata": {
    "id": "N4uCEPTetY20"
   },
   "source": [
    "Creating a real app\n"
   ]
  },
  {
   "cell_type": "code",
   "execution_count": 40,
   "metadata": {
    "colab": {
     "base_uri": "https://localhost:8080/"
    },
    "id": "tBD8bviQtXgm",
    "outputId": "64f8e374-433f-465d-f14a-71c444a9722e"
   },
   "outputs": [
    {
     "name": "stdout",
     "output_type": "stream",
     "text": [
      "Collecting voila\n",
      "  Downloading voila-0.2.6-py3-none-any.whl (1.9 MB)\n",
      "\u001b[K     |████████████████████████████████| 1.9 MB 23.2 MB/s eta 0:00:01\n",
      "\u001b[?25hCollecting nbconvert<7,>=6.0.0\n",
      "  Downloading nbconvert-6.0.7-py3-none-any.whl (552 kB)\n",
      "\u001b[K     |████████████████████████████████| 552 kB 70.3 MB/s eta 0:00:01\n",
      "\u001b[?25hRequirement already satisfied: jupyter-client<7,>=6.1.3 in /opt/conda/envs/fastai/lib/python3.8/site-packages (from voila) (6.1.7)\n",
      "Collecting jupyter-server<2.0.0,>=0.3.0\n",
      "  Downloading jupyter_server-1.2.2-py3-none-any.whl (184 kB)\n",
      "\u001b[K     |████████████████████████████████| 184 kB 64.1 MB/s eta 0:00:01\n",
      "\u001b[?25hRequirement already satisfied: nbclient<0.6,>=0.4.0 in /opt/conda/envs/fastai/lib/python3.8/site-packages (from voila) (0.5.1)\n",
      "Requirement already satisfied: jupyter-core in /opt/conda/envs/fastai/lib/python3.8/site-packages (from nbconvert<7,>=6.0.0->voila) (4.7.0)\n",
      "Requirement already satisfied: defusedxml in /opt/conda/envs/fastai/lib/python3.8/site-packages (from nbconvert<7,>=6.0.0->voila) (0.6.0)\n",
      "Requirement already satisfied: traitlets>=4.2 in /opt/conda/envs/fastai/lib/python3.8/site-packages (from nbconvert<7,>=6.0.0->voila) (5.0.5)\n",
      "Requirement already satisfied: jupyterlab-pygments in /opt/conda/envs/fastai/lib/python3.8/site-packages (from nbconvert<7,>=6.0.0->voila) (0.1.2)\n",
      "Requirement already satisfied: bleach in /opt/conda/envs/fastai/lib/python3.8/site-packages (from nbconvert<7,>=6.0.0->voila) (3.2.1)\n",
      "Requirement already satisfied: testpath in /opt/conda/envs/fastai/lib/python3.8/site-packages (from nbconvert<7,>=6.0.0->voila) (0.4.4)\n",
      "Requirement already satisfied: pygments>=2.4.1 in /opt/conda/envs/fastai/lib/python3.8/site-packages (from nbconvert<7,>=6.0.0->voila) (2.7.2)\n",
      "Requirement already satisfied: pandocfilters>=1.4.1 in /opt/conda/envs/fastai/lib/python3.8/site-packages (from nbconvert<7,>=6.0.0->voila) (1.4.2)\n",
      "Requirement already satisfied: mistune<2,>=0.8.1 in /opt/conda/envs/fastai/lib/python3.8/site-packages (from nbconvert<7,>=6.0.0->voila) (0.8.4)\n",
      "Requirement already satisfied: nbformat>=4.4 in /opt/conda/envs/fastai/lib/python3.8/site-packages (from nbconvert<7,>=6.0.0->voila) (5.0.8)\n",
      "Requirement already satisfied: jinja2>=2.4 in /opt/conda/envs/fastai/lib/python3.8/site-packages (from nbconvert<7,>=6.0.0->voila) (2.11.2)\n",
      "Requirement already satisfied: entrypoints>=0.2.2 in /opt/conda/envs/fastai/lib/python3.8/site-packages (from nbconvert<7,>=6.0.0->voila) (0.3)\n",
      "Requirement already satisfied: python-dateutil>=2.1 in /opt/conda/envs/fastai/lib/python3.8/site-packages (from jupyter-client<7,>=6.1.3->voila) (2.8.1)\n",
      "Requirement already satisfied: pyzmq>=13 in /opt/conda/envs/fastai/lib/python3.8/site-packages (from jupyter-client<7,>=6.1.3->voila) (20.0.0)\n",
      "Requirement already satisfied: tornado>=4.1 in /opt/conda/envs/fastai/lib/python3.8/site-packages (from jupyter-client<7,>=6.1.3->voila) (6.1)\n",
      "Requirement already satisfied: prometheus-client in /opt/conda/envs/fastai/lib/python3.8/site-packages (from jupyter-server<2.0.0,>=0.3.0->voila) (0.9.0)\n",
      "Collecting anyio>=2.0.2\n",
      "  Downloading anyio-2.0.2-py3-none-any.whl (62 kB)\n",
      "\u001b[K     |████████████████████████████████| 62 kB 4.0 MB/s  eta 0:00:01\n",
      "\u001b[?25hRequirement already satisfied: Send2Trash in /opt/conda/envs/fastai/lib/python3.8/site-packages (from jupyter-server<2.0.0,>=0.3.0->voila) (1.5.0)\n",
      "Requirement already satisfied: ipython-genutils in /opt/conda/envs/fastai/lib/python3.8/site-packages (from jupyter-server<2.0.0,>=0.3.0->voila) (0.2.0)\n",
      "Requirement already satisfied: terminado>=0.8.3 in /opt/conda/envs/fastai/lib/python3.8/site-packages (from jupyter-server<2.0.0,>=0.3.0->voila) (0.9.1)\n",
      "Requirement already satisfied: nest-asyncio in /opt/conda/envs/fastai/lib/python3.8/site-packages (from nbclient<0.6,>=0.4.0->voila) (1.4.3)\n",
      "Requirement already satisfied: async-generator in /opt/conda/envs/fastai/lib/python3.8/site-packages (from nbclient<0.6,>=0.4.0->voila) (1.10)\n",
      "Requirement already satisfied: packaging in /opt/conda/envs/fastai/lib/python3.8/site-packages (from bleach->nbconvert<7,>=6.0.0->voila) (20.4)\n",
      "Requirement already satisfied: webencodings in /opt/conda/envs/fastai/lib/python3.8/site-packages (from bleach->nbconvert<7,>=6.0.0->voila) (0.5.1)\n",
      "Requirement already satisfied: six>=1.9.0 in /opt/conda/envs/fastai/lib/python3.8/site-packages (from bleach->nbconvert<7,>=6.0.0->voila) (1.15.0)\n",
      "Requirement already satisfied: jsonschema!=2.5.0,>=2.4 in /opt/conda/envs/fastai/lib/python3.8/site-packages (from nbformat>=4.4->nbconvert<7,>=6.0.0->voila) (3.2.0)\n",
      "Requirement already satisfied: MarkupSafe>=0.23 in /opt/conda/envs/fastai/lib/python3.8/site-packages (from jinja2>=2.4->nbconvert<7,>=6.0.0->voila) (1.1.1)\n",
      "Collecting sniffio>=1.1\n",
      "  Downloading sniffio-1.2.0-py3-none-any.whl (10 kB)\n",
      "Requirement already satisfied: idna>=2.8 in /opt/conda/envs/fastai/lib/python3.8/site-packages (from anyio>=2.0.2->jupyter-server<2.0.0,>=0.3.0->voila) (2.10)\n",
      "Requirement already satisfied: ptyprocess; os_name != \"nt\" in /opt/conda/envs/fastai/lib/python3.8/site-packages (from terminado>=0.8.3->jupyter-server<2.0.0,>=0.3.0->voila) (0.6.0)\n",
      "Requirement already satisfied: pyparsing>=2.0.2 in /opt/conda/envs/fastai/lib/python3.8/site-packages (from packaging->bleach->nbconvert<7,>=6.0.0->voila) (2.4.7)\n",
      "Requirement already satisfied: attrs>=17.4.0 in /opt/conda/envs/fastai/lib/python3.8/site-packages (from jsonschema!=2.5.0,>=2.4->nbformat>=4.4->nbconvert<7,>=6.0.0->voila) (20.3.0)\n",
      "Requirement already satisfied: setuptools in /opt/conda/envs/fastai/lib/python3.8/site-packages (from jsonschema!=2.5.0,>=2.4->nbformat>=4.4->nbconvert<7,>=6.0.0->voila) (49.6.0.post20201009)\n",
      "Requirement already satisfied: pyrsistent>=0.14.0 in /opt/conda/envs/fastai/lib/python3.8/site-packages (from jsonschema!=2.5.0,>=2.4->nbformat>=4.4->nbconvert<7,>=6.0.0->voila) (0.17.3)\n",
      "Installing collected packages: nbconvert, sniffio, anyio, jupyter-server, voila\n",
      "  Attempting uninstall: nbconvert\n",
      "    Found existing installation: nbconvert 5.6.1\n",
      "    Uninstalling nbconvert-5.6.1:\n",
      "      Successfully uninstalled nbconvert-5.6.1\n",
      "\u001b[31mERROR: After October 2020 you may experience errors when installing or updating packages. This is because pip will change the way that it resolves dependency conflicts.\n",
      "\n",
      "We recommend you use --use-feature=2020-resolver to test your packages with the new resolver before it becomes the default.\n",
      "\n",
      "nbdev 1.1.5 requires nbconvert<6, but you'll have nbconvert 6.0.7 which is incompatible.\u001b[0m\n",
      "Successfully installed anyio-2.0.2 jupyter-server-1.2.2 nbconvert-6.0.7 sniffio-1.2.0 voila-0.2.6\n"
     ]
    }
   ],
   "source": [
    "!pip install voila"
   ]
  },
  {
   "cell_type": "code",
   "execution_count": 41,
   "metadata": {
    "colab": {
     "base_uri": "https://localhost:8080/"
    },
    "id": "rbbzfGv5thF_",
    "outputId": "868eae9f-dcf4-4bf6-c13b-07b342585cc3"
   },
   "outputs": [
    {
     "name": "stdout",
     "output_type": "stream",
     "text": [
      "Enabling: voila\n",
      "- Writing config: /opt/conda/envs/fastai/etc/jupyter\n",
      "    - Validating...\n",
      "      voila 0.2.6 \u001b[32mOK\u001b[0m\n"
     ]
    }
   ],
   "source": [
    "!jupyter serverextension enable --sys-prefix voila"
   ]
  },
  {
   "cell_type": "code",
   "execution_count": null,
   "metadata": {},
   "outputs": [],
   "source": []
  }
 ],
 "metadata": {
  "accelerator": "GPU",
  "colab": {
   "collapsed_sections": [],
   "name": "dove segull or crow .ipynb",
   "provenance": []
  },
  "kernelspec": {
   "display_name": "Python 3",
   "language": "python",
   "name": "python3"
  },
  "language_info": {
   "codemirror_mode": {
    "name": "ipython",
    "version": 3
   },
   "file_extension": ".py",
   "mimetype": "text/x-python",
   "name": "python",
   "nbconvert_exporter": "python",
   "pygments_lexer": "ipython3",
   "version": "3.8.6"
  },
  "widgets": {
   "application/vnd.jupyter.widget-state+json": {
    "132b25af9af0462a968039c19906def9": {
     "model_module": "@jupyter-widgets/controls",
     "model_name": "HTMLModel",
     "state": {
      "_dom_classes": [],
      "_model_module": "@jupyter-widgets/controls",
      "_model_module_version": "1.5.0",
      "_model_name": "HTMLModel",
      "_view_count": null,
      "_view_module": "@jupyter-widgets/controls",
      "_view_module_version": "1.5.0",
      "_view_name": "HTMLView",
      "description": "",
      "description_tooltip": null,
      "layout": "IPY_MODEL_7d1f2f2620c84292aef403bef31afb81",
      "placeholder": "​",
      "style": "IPY_MODEL_3c4e30ce686f471787eb0efcffe02821",
      "value": " 44.7M/44.7M [02:06&lt;00:00, 369kB/s]"
     }
    },
    "221abf7ee5384d559c3a95f46d38dd35": {
     "model_module": "@jupyter-widgets/controls",
     "model_name": "LabelModel",
     "state": {
      "_dom_classes": [],
      "_model_module": "@jupyter-widgets/controls",
      "_model_module_version": "1.5.0",
      "_model_name": "LabelModel",
      "_view_count": null,
      "_view_module": "@jupyter-widgets/controls",
      "_view_module_version": "1.5.0",
      "_view_name": "LabelView",
      "description": "",
      "description_tooltip": null,
      "layout": "IPY_MODEL_e8be5c0ef8cf4bba96a3c03732f8fe9b",
      "placeholder": "​",
      "style": "IPY_MODEL_e40b308016814373880f1c5f9898ee75",
      "value": "Select your bear!"
     }
    },
    "3a4513494369450abb88bde59b5975a1": {
     "model_module": "@jupyter-widgets/base",
     "model_name": "LayoutModel",
     "state": {
      "_model_module": "@jupyter-widgets/base",
      "_model_module_version": "1.2.0",
      "_model_name": "LayoutModel",
      "_view_count": null,
      "_view_module": "@jupyter-widgets/base",
      "_view_module_version": "1.2.0",
      "_view_name": "LayoutView",
      "align_content": null,
      "align_items": null,
      "align_self": null,
      "border": null,
      "bottom": null,
      "display": null,
      "flex": null,
      "flex_flow": null,
      "grid_area": null,
      "grid_auto_columns": null,
      "grid_auto_flow": null,
      "grid_auto_rows": null,
      "grid_column": null,
      "grid_gap": null,
      "grid_row": null,
      "grid_template_areas": null,
      "grid_template_columns": null,
      "grid_template_rows": null,
      "height": null,
      "justify_content": null,
      "justify_items": null,
      "left": null,
      "margin": null,
      "max_height": null,
      "max_width": null,
      "min_height": null,
      "min_width": null,
      "object_fit": null,
      "object_position": null,
      "order": null,
      "overflow": null,
      "overflow_x": null,
      "overflow_y": null,
      "padding": null,
      "right": null,
      "top": null,
      "visibility": null,
      "width": null
     }
    },
    "3c4e30ce686f471787eb0efcffe02821": {
     "model_module": "@jupyter-widgets/controls",
     "model_name": "DescriptionStyleModel",
     "state": {
      "_model_module": "@jupyter-widgets/controls",
      "_model_module_version": "1.5.0",
      "_model_name": "DescriptionStyleModel",
      "_view_count": null,
      "_view_module": "@jupyter-widgets/base",
      "_view_module_version": "1.2.0",
      "_view_name": "StyleView",
      "description_width": ""
     }
    },
    "4140f9824743416ca665de428d82ef51": {
     "model_module": "@jupyter-widgets/controls",
     "model_name": "ProgressStyleModel",
     "state": {
      "_model_module": "@jupyter-widgets/controls",
      "_model_module_version": "1.5.0",
      "_model_name": "ProgressStyleModel",
      "_view_count": null,
      "_view_module": "@jupyter-widgets/base",
      "_view_module_version": "1.2.0",
      "_view_name": "StyleView",
      "bar_color": null,
      "description_width": "initial"
     }
    },
    "51c691f8b8864fdd9a88c9813d2cd773": {
     "model_module": "@jupyter-widgets/controls",
     "model_name": "ButtonModel",
     "state": {
      "_dom_classes": [],
      "_model_module": "@jupyter-widgets/controls",
      "_model_module_version": "1.5.0",
      "_model_name": "ButtonModel",
      "_view_count": null,
      "_view_module": "@jupyter-widgets/controls",
      "_view_module_version": "1.5.0",
      "_view_name": "ButtonView",
      "button_style": "",
      "description": "Classify",
      "disabled": false,
      "icon": "",
      "layout": "IPY_MODEL_901956eabd56472fb600236ddcfaf6e2",
      "style": "IPY_MODEL_e7b494c200d74afbb10b1a8f49ad5900",
      "tooltip": ""
     }
    },
    "5269ed5bf767409e9f2ad2cf2aee5766": {
     "model_module": "@jupyter-widgets/base",
     "model_name": "LayoutModel",
     "state": {
      "_model_module": "@jupyter-widgets/base",
      "_model_module_version": "1.2.0",
      "_model_name": "LayoutModel",
      "_view_count": null,
      "_view_module": "@jupyter-widgets/base",
      "_view_module_version": "1.2.0",
      "_view_name": "LayoutView",
      "align_content": null,
      "align_items": null,
      "align_self": null,
      "border": null,
      "bottom": null,
      "display": null,
      "flex": null,
      "flex_flow": null,
      "grid_area": null,
      "grid_auto_columns": null,
      "grid_auto_flow": null,
      "grid_auto_rows": null,
      "grid_column": null,
      "grid_gap": null,
      "grid_row": null,
      "grid_template_areas": null,
      "grid_template_columns": null,
      "grid_template_rows": null,
      "height": null,
      "justify_content": null,
      "justify_items": null,
      "left": null,
      "margin": null,
      "max_height": null,
      "max_width": null,
      "min_height": null,
      "min_width": null,
      "object_fit": null,
      "object_position": null,
      "order": null,
      "overflow": null,
      "overflow_x": null,
      "overflow_y": null,
      "padding": null,
      "right": null,
      "top": null,
      "visibility": null,
      "width": null
     }
    },
    "5b30b3744af64f68bf5d3174768217cc": {
     "model_module": "@jupyter-widgets/controls",
     "model_name": "DescriptionStyleModel",
     "state": {
      "_model_module": "@jupyter-widgets/controls",
      "_model_module_version": "1.5.0",
      "_model_name": "DescriptionStyleModel",
      "_view_count": null,
      "_view_module": "@jupyter-widgets/base",
      "_view_module_version": "1.2.0",
      "_view_name": "StyleView",
      "description_width": ""
     }
    },
    "6d97fe39733149b7bf3c347cc9337f30": {
     "model_module": "@jupyter-widgets/controls",
     "model_name": "LabelModel",
     "state": {
      "_dom_classes": [],
      "_model_module": "@jupyter-widgets/controls",
      "_model_module_version": "1.5.0",
      "_model_name": "LabelModel",
      "_view_count": null,
      "_view_module": "@jupyter-widgets/controls",
      "_view_module_version": "1.5.0",
      "_view_name": "LabelView",
      "description": "",
      "description_tooltip": null,
      "layout": "IPY_MODEL_ba47e5428fa34494b7683fc12bc36b41",
      "placeholder": "​",
      "style": "IPY_MODEL_5b30b3744af64f68bf5d3174768217cc",
      "value": "Prediction: crow; Probability: 0.9993"
     }
    },
    "7c9df107d353441da18fca610b187ed3": {
     "model_module": "@jupyter-widgets/base",
     "model_name": "LayoutModel",
     "state": {
      "_model_module": "@jupyter-widgets/base",
      "_model_module_version": "1.2.0",
      "_model_name": "LayoutModel",
      "_view_count": null,
      "_view_module": "@jupyter-widgets/base",
      "_view_module_version": "1.2.0",
      "_view_name": "LayoutView",
      "align_content": null,
      "align_items": null,
      "align_self": null,
      "border": null,
      "bottom": null,
      "display": null,
      "flex": null,
      "flex_flow": null,
      "grid_area": null,
      "grid_auto_columns": null,
      "grid_auto_flow": null,
      "grid_auto_rows": null,
      "grid_column": null,
      "grid_gap": null,
      "grid_row": null,
      "grid_template_areas": null,
      "grid_template_columns": null,
      "grid_template_rows": null,
      "height": null,
      "justify_content": null,
      "justify_items": null,
      "left": null,
      "margin": null,
      "max_height": null,
      "max_width": null,
      "min_height": null,
      "min_width": null,
      "object_fit": null,
      "object_position": null,
      "order": null,
      "overflow": null,
      "overflow_x": null,
      "overflow_y": null,
      "padding": null,
      "right": null,
      "top": null,
      "visibility": null,
      "width": null
     }
    },
    "7d1f2f2620c84292aef403bef31afb81": {
     "model_module": "@jupyter-widgets/base",
     "model_name": "LayoutModel",
     "state": {
      "_model_module": "@jupyter-widgets/base",
      "_model_module_version": "1.2.0",
      "_model_name": "LayoutModel",
      "_view_count": null,
      "_view_module": "@jupyter-widgets/base",
      "_view_module_version": "1.2.0",
      "_view_name": "LayoutView",
      "align_content": null,
      "align_items": null,
      "align_self": null,
      "border": null,
      "bottom": null,
      "display": null,
      "flex": null,
      "flex_flow": null,
      "grid_area": null,
      "grid_auto_columns": null,
      "grid_auto_flow": null,
      "grid_auto_rows": null,
      "grid_column": null,
      "grid_gap": null,
      "grid_row": null,
      "grid_template_areas": null,
      "grid_template_columns": null,
      "grid_template_rows": null,
      "height": null,
      "justify_content": null,
      "justify_items": null,
      "left": null,
      "margin": null,
      "max_height": null,
      "max_width": null,
      "min_height": null,
      "min_width": null,
      "object_fit": null,
      "object_position": null,
      "order": null,
      "overflow": null,
      "overflow_x": null,
      "overflow_y": null,
      "padding": null,
      "right": null,
      "top": null,
      "visibility": null,
      "width": null
     }
    },
    "88e9b7d916ee4d619babd84e066b5892": {
     "model_module": "@jupyter-widgets/output",
     "model_name": "OutputModel",
     "state": {
      "_dom_classes": [],
      "_model_module": "@jupyter-widgets/output",
      "_model_module_version": "1.0.0",
      "_model_name": "OutputModel",
      "_view_count": null,
      "_view_module": "@jupyter-widgets/output",
      "_view_module_version": "1.0.0",
      "_view_name": "OutputView",
      "layout": "IPY_MODEL_e755c79ee04d4caa8e96f7d93239ad4f",
      "msg_id": "",
      "outputs": [
       {
        "image/png": "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\n",
        "metadata": {
         "tags": []
        },
        "output_type": "display_data",
        "text/plain": "<PIL.Image.Image image mode=RGB size=128x102 at 0x7F7FC1125898>"
       }
      ]
     }
    },
    "901956eabd56472fb600236ddcfaf6e2": {
     "model_module": "@jupyter-widgets/base",
     "model_name": "LayoutModel",
     "state": {
      "_model_module": "@jupyter-widgets/base",
      "_model_module_version": "1.2.0",
      "_model_name": "LayoutModel",
      "_view_count": null,
      "_view_module": "@jupyter-widgets/base",
      "_view_module_version": "1.2.0",
      "_view_name": "LayoutView",
      "align_content": null,
      "align_items": null,
      "align_self": null,
      "border": null,
      "bottom": null,
      "display": null,
      "flex": null,
      "flex_flow": null,
      "grid_area": null,
      "grid_auto_columns": null,
      "grid_auto_flow": null,
      "grid_auto_rows": null,
      "grid_column": null,
      "grid_gap": null,
      "grid_row": null,
      "grid_template_areas": null,
      "grid_template_columns": null,
      "grid_template_rows": null,
      "height": null,
      "justify_content": null,
      "justify_items": null,
      "left": null,
      "margin": null,
      "max_height": null,
      "max_width": null,
      "min_height": null,
      "min_width": null,
      "object_fit": null,
      "object_position": null,
      "order": null,
      "overflow": null,
      "overflow_x": null,
      "overflow_y": null,
      "padding": null,
      "right": null,
      "top": null,
      "visibility": null,
      "width": null
     }
    },
    "ba47e5428fa34494b7683fc12bc36b41": {
     "model_module": "@jupyter-widgets/base",
     "model_name": "LayoutModel",
     "state": {
      "_model_module": "@jupyter-widgets/base",
      "_model_module_version": "1.2.0",
      "_model_name": "LayoutModel",
      "_view_count": null,
      "_view_module": "@jupyter-widgets/base",
      "_view_module_version": "1.2.0",
      "_view_name": "LayoutView",
      "align_content": null,
      "align_items": null,
      "align_self": null,
      "border": null,
      "bottom": null,
      "display": null,
      "flex": null,
      "flex_flow": null,
      "grid_area": null,
      "grid_auto_columns": null,
      "grid_auto_flow": null,
      "grid_auto_rows": null,
      "grid_column": null,
      "grid_gap": null,
      "grid_row": null,
      "grid_template_areas": null,
      "grid_template_columns": null,
      "grid_template_rows": null,
      "height": null,
      "justify_content": null,
      "justify_items": null,
      "left": null,
      "margin": null,
      "max_height": null,
      "max_width": null,
      "min_height": null,
      "min_width": null,
      "object_fit": null,
      "object_position": null,
      "order": null,
      "overflow": null,
      "overflow_x": null,
      "overflow_y": null,
      "padding": null,
      "right": null,
      "top": null,
      "visibility": null,
      "width": null
     }
    },
    "bccf3fecef9b41828827ed43b3adb1f4": {
     "model_module": "@jupyter-widgets/base",
     "model_name": "LayoutModel",
     "state": {
      "_model_module": "@jupyter-widgets/base",
      "_model_module_version": "1.2.0",
      "_model_name": "LayoutModel",
      "_view_count": null,
      "_view_module": "@jupyter-widgets/base",
      "_view_module_version": "1.2.0",
      "_view_name": "LayoutView",
      "align_content": null,
      "align_items": null,
      "align_self": null,
      "border": null,
      "bottom": null,
      "display": null,
      "flex": null,
      "flex_flow": null,
      "grid_area": null,
      "grid_auto_columns": null,
      "grid_auto_flow": null,
      "grid_auto_rows": null,
      "grid_column": null,
      "grid_gap": null,
      "grid_row": null,
      "grid_template_areas": null,
      "grid_template_columns": null,
      "grid_template_rows": null,
      "height": null,
      "justify_content": null,
      "justify_items": null,
      "left": null,
      "margin": null,
      "max_height": null,
      "max_width": null,
      "min_height": null,
      "min_width": null,
      "object_fit": null,
      "object_position": null,
      "order": null,
      "overflow": null,
      "overflow_x": null,
      "overflow_y": null,
      "padding": null,
      "right": null,
      "top": null,
      "visibility": null,
      "width": null
     }
    },
    "bdf5172a11084bb98ebf065469dc08a6": {
     "model_module": "@jupyter-widgets/controls",
     "model_name": "VBoxModel",
     "state": {
      "_dom_classes": [],
      "_model_module": "@jupyter-widgets/controls",
      "_model_module_version": "1.5.0",
      "_model_name": "VBoxModel",
      "_view_count": null,
      "_view_module": "@jupyter-widgets/controls",
      "_view_module_version": "1.5.0",
      "_view_name": "VBoxView",
      "box_style": "",
      "children": [
       "IPY_MODEL_221abf7ee5384d559c3a95f46d38dd35",
       "IPY_MODEL_fc0ffd7b1c284732b7bb30c2337b6693",
       "IPY_MODEL_51c691f8b8864fdd9a88c9813d2cd773",
       "IPY_MODEL_88e9b7d916ee4d619babd84e066b5892",
       "IPY_MODEL_6d97fe39733149b7bf3c347cc9337f30"
      ],
      "layout": "IPY_MODEL_7c9df107d353441da18fca610b187ed3"
     }
    },
    "c3f41241c33f4fa180417edb4ff2ff5e": {
     "model_module": "@jupyter-widgets/controls",
     "model_name": "HBoxModel",
     "state": {
      "_dom_classes": [],
      "_model_module": "@jupyter-widgets/controls",
      "_model_module_version": "1.5.0",
      "_model_name": "HBoxModel",
      "_view_count": null,
      "_view_module": "@jupyter-widgets/controls",
      "_view_module_version": "1.5.0",
      "_view_name": "HBoxView",
      "box_style": "",
      "children": [
       "IPY_MODEL_d4493ed4dc6e4654baf5e02d6785d2ad",
       "IPY_MODEL_132b25af9af0462a968039c19906def9"
      ],
      "layout": "IPY_MODEL_5269ed5bf767409e9f2ad2cf2aee5766"
     }
    },
    "d4493ed4dc6e4654baf5e02d6785d2ad": {
     "model_module": "@jupyter-widgets/controls",
     "model_name": "FloatProgressModel",
     "state": {
      "_dom_classes": [],
      "_model_module": "@jupyter-widgets/controls",
      "_model_module_version": "1.5.0",
      "_model_name": "FloatProgressModel",
      "_view_count": null,
      "_view_module": "@jupyter-widgets/controls",
      "_view_module_version": "1.5.0",
      "_view_name": "ProgressView",
      "bar_style": "success",
      "description": "100%",
      "description_tooltip": null,
      "layout": "IPY_MODEL_bccf3fecef9b41828827ed43b3adb1f4",
      "max": 46827520,
      "min": 0,
      "orientation": "horizontal",
      "style": "IPY_MODEL_4140f9824743416ca665de428d82ef51",
      "value": 46827520
     }
    },
    "e40704b76ca64ab583a04835a0a10c9d": {
     "model_module": "@jupyter-widgets/controls",
     "model_name": "ButtonStyleModel",
     "state": {
      "_model_module": "@jupyter-widgets/controls",
      "_model_module_version": "1.5.0",
      "_model_name": "ButtonStyleModel",
      "_view_count": null,
      "_view_module": "@jupyter-widgets/base",
      "_view_module_version": "1.2.0",
      "_view_name": "StyleView",
      "button_color": null,
      "font_weight": ""
     }
    },
    "e40b308016814373880f1c5f9898ee75": {
     "model_module": "@jupyter-widgets/controls",
     "model_name": "DescriptionStyleModel",
     "state": {
      "_model_module": "@jupyter-widgets/controls",
      "_model_module_version": "1.5.0",
      "_model_name": "DescriptionStyleModel",
      "_view_count": null,
      "_view_module": "@jupyter-widgets/base",
      "_view_module_version": "1.2.0",
      "_view_name": "StyleView",
      "description_width": ""
     }
    },
    "e755c79ee04d4caa8e96f7d93239ad4f": {
     "model_module": "@jupyter-widgets/base",
     "model_name": "LayoutModel",
     "state": {
      "_model_module": "@jupyter-widgets/base",
      "_model_module_version": "1.2.0",
      "_model_name": "LayoutModel",
      "_view_count": null,
      "_view_module": "@jupyter-widgets/base",
      "_view_module_version": "1.2.0",
      "_view_name": "LayoutView",
      "align_content": null,
      "align_items": null,
      "align_self": null,
      "border": null,
      "bottom": null,
      "display": null,
      "flex": null,
      "flex_flow": null,
      "grid_area": null,
      "grid_auto_columns": null,
      "grid_auto_flow": null,
      "grid_auto_rows": null,
      "grid_column": null,
      "grid_gap": null,
      "grid_row": null,
      "grid_template_areas": null,
      "grid_template_columns": null,
      "grid_template_rows": null,
      "height": null,
      "justify_content": null,
      "justify_items": null,
      "left": null,
      "margin": null,
      "max_height": null,
      "max_width": null,
      "min_height": null,
      "min_width": null,
      "object_fit": null,
      "object_position": null,
      "order": null,
      "overflow": null,
      "overflow_x": null,
      "overflow_y": null,
      "padding": null,
      "right": null,
      "top": null,
      "visibility": null,
      "width": null
     }
    },
    "e7b494c200d74afbb10b1a8f49ad5900": {
     "model_module": "@jupyter-widgets/controls",
     "model_name": "ButtonStyleModel",
     "state": {
      "_model_module": "@jupyter-widgets/controls",
      "_model_module_version": "1.5.0",
      "_model_name": "ButtonStyleModel",
      "_view_count": null,
      "_view_module": "@jupyter-widgets/base",
      "_view_module_version": "1.2.0",
      "_view_name": "StyleView",
      "button_color": null,
      "font_weight": ""
     }
    },
    "e8be5c0ef8cf4bba96a3c03732f8fe9b": {
     "model_module": "@jupyter-widgets/base",
     "model_name": "LayoutModel",
     "state": {
      "_model_module": "@jupyter-widgets/base",
      "_model_module_version": "1.2.0",
      "_model_name": "LayoutModel",
      "_view_count": null,
      "_view_module": "@jupyter-widgets/base",
      "_view_module_version": "1.2.0",
      "_view_name": "LayoutView",
      "align_content": null,
      "align_items": null,
      "align_self": null,
      "border": null,
      "bottom": null,
      "display": null,
      "flex": null,
      "flex_flow": null,
      "grid_area": null,
      "grid_auto_columns": null,
      "grid_auto_flow": null,
      "grid_auto_rows": null,
      "grid_column": null,
      "grid_gap": null,
      "grid_row": null,
      "grid_template_areas": null,
      "grid_template_columns": null,
      "grid_template_rows": null,
      "height": null,
      "justify_content": null,
      "justify_items": null,
      "left": null,
      "margin": null,
      "max_height": null,
      "max_width": null,
      "min_height": null,
      "min_width": null,
      "object_fit": null,
      "object_position": null,
      "order": null,
      "overflow": null,
      "overflow_x": null,
      "overflow_y": null,
      "padding": null,
      "right": null,
      "top": null,
      "visibility": null,
      "width": null
     }
    },
    "fc0ffd7b1c284732b7bb30c2337b6693": {
     "model_module": "@jupyter-widgets/controls",
     "model_name": "FileUploadModel",
     "state": {
      "_counter": 1,
      "_dom_classes": [],
      "_model_module": "@jupyter-widgets/controls",
      "_model_module_version": "1.5.0",
      "_model_name": "FileUploadModel",
      "_view_count": null,
      "_view_module": "@jupyter-widgets/controls",
      "_view_module_version": "1.5.0",
      "_view_name": "FileUploadView",
      "accept": "",
      "button_style": "",
      "data": [
       null
      ],
      "description": "Upload",
      "description_tooltip": null,
      "disabled": false,
      "error": "",
      "icon": "upload",
      "layout": "IPY_MODEL_3a4513494369450abb88bde59b5975a1",
      "metadata": [
       {
        "lastModified": 1611144551000,
        "name": "Screenshot 2021-01-20 at 13.09.05.png",
        "size": 171816,
        "type": "image/png"
       }
      ],
      "multiple": false,
      "style": "IPY_MODEL_e40704b76ca64ab583a04835a0a10c9d"
     }
    }
   }
  }
 },
 "nbformat": 4,
 "nbformat_minor": 1
}
